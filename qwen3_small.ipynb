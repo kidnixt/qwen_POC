{
 "cells": [
  {
   "cell_type": "code",
   "execution_count": 1,
   "id": "be21d49a-40ab-4cee-af4f-82e6ce44c33c",
   "metadata": {},
   "outputs": [
    {
     "name": "stderr",
     "output_type": "stream",
     "text": [
      "WARNING: All log messages before absl::InitializeLog() is called are written to STDERR\n",
      "E0000 00:00:1750265388.564036   12623 cuda_dnn.cc:8310] Unable to register cuDNN factory: Attempting to register factory for plugin cuDNN when one has already been registered\n",
      "E0000 00:00:1750265388.568043   12623 cuda_blas.cc:1418] Unable to register cuBLAS factory: Attempting to register factory for plugin cuBLAS when one has already been registered\n",
      "Loading checkpoint shards: 100%|██████████| 2/2 [00:00<00:00,  2.15it/s]\n"
     ]
    }
   ],
   "source": [
    "import torch\n",
    "from transformers import AutoModelForCausalLM, AutoTokenizer\n",
    "\n",
    "model_name = \"Qwen/Qwen3-1.7B\"\n",
    "\n",
    "# load the tokenizer and the model\n",
    "tokenizer = AutoTokenizer.from_pretrained(model_name, trust_remote_code=True)\n",
    "device = \"cuda\" if torch.cuda.is_available() else \"cpu\"\n",
    "\n",
    "model = AutoModelForCausalLM.from_pretrained(\n",
    "        model_name,\n",
    "        torch_dtype=torch.float16 if device == \"cuda\" else torch.float32,\n",
    "        device_map=\"auto\",\n",
    "        trust_remote_code=True\n",
    ")"
   ]
  },
  {
   "cell_type": "code",
   "execution_count": 2,
   "id": "a45b79ab-405a-4bf2-a8f2-3662d8ea7d02",
   "metadata": {},
   "outputs": [
    {
     "data": {
      "text/plain": [
       "[[15], [16], [17], [18], [19], [20], [21], [22], [23], [24]]"
      ]
     },
     "execution_count": 2,
     "metadata": {},
     "output_type": "execute_result"
    }
   ],
   "source": [
    "numbers = [\"0\", \"1\", \"2\",\"3\",\"4\",\"5\",\"6\",\"7\",\"8\",\"9\"]\n",
    "indexes = [tokenizer.encode(number) for number in numbers]\n",
    "indexes"
   ]
  },
  {
   "cell_type": "code",
   "execution_count": 4,
   "id": "3736ba1c-0e17-41d1-8def-8d3ef45a1fbf",
   "metadata": {},
   "outputs": [],
   "source": [
    "prompt = \".\"\n",
    "input_ids = torch.tensor(tokenizer.encode(prompt)).reshape(1, -1).to(device)\n",
    "\n",
    "with torch.no_grad():\n",
    "    output = model(input_ids)\n",
    "    logits = output[0]\n",
    "    probs = torch.softmax(logits, dim=-1)"
   ]
  },
  {
   "cell_type": "code",
   "execution_count": 5,
   "id": "80f13285-bb35-4415-be5a-72952dfaf80b",
   "metadata": {},
   "outputs": [],
   "source": [
    "numbers = [\"0\", \"1\", \"2\",\"3\",\"4\",\"5\",\"6\",\"7\",\"8\",\"9\"]\n",
    "indexes = [tokenizer.encode(number) for number in numbers]\n",
    "#indexes.append([tokenizer.eos_token_id])\n",
    "\n",
    "word_probs = {}\n",
    "for i in indexes:\n",
    "    word_prob = torch.prod(torch.stack([probs[0, -1, idx] for idx in i]))\n",
    "    word_probs[tokenizer.decode(i)] = word_prob.item()"
   ]
  },
  {
   "cell_type": "code",
   "execution_count": 6,
   "id": "65a4740e-e202-4cfd-84df-bfee473ab613",
   "metadata": {},
   "outputs": [
    {
     "data": {
      "text/plain": [
       "{'0': 0.17619769827816933,\n",
       " '1': 0.18039075742706753,\n",
       " '2': 0.14051208850031224,\n",
       " '3': 0.07819609242572932,\n",
       " '4': 0.06186992595235971,\n",
       " '5': 0.06820412168792934,\n",
       " '6': 0.04201980551342671,\n",
       " '7': 0.054598982960121334,\n",
       " '8': 0.05589258631456865,\n",
       " '9': 0.14211794094031582}"
      ]
     },
     "execution_count": 6,
     "metadata": {},
     "output_type": "execute_result"
    }
   ],
   "source": [
    "normalized_word_probs = {}\n",
    "total = sum(word_probs.values())\n",
    "for word in word_probs:\n",
    "    normalized_word_probs[word] = word_probs[word] / total\n",
    "\n",
    "normalized_word_probs"
   ]
  },
  {
   "cell_type": "code",
   "execution_count": null,
   "id": "2d179eec-1781-4e7b-a019-430ebcf01958",
   "metadata": {},
   "outputs": [],
   "source": []
  }
 ],
 "metadata": {
  "kernelspec": {
   "display_name": "Python 3 (ipykernel)",
   "language": "python",
   "name": "python3"
  },
  "language_info": {
   "codemirror_mode": {
    "name": "ipython",
    "version": 3
   },
   "file_extension": ".py",
   "mimetype": "text/x-python",
   "name": "python",
   "nbconvert_exporter": "python",
   "pygments_lexer": "ipython3",
   "version": "3.12.9"
  }
 },
 "nbformat": 4,
 "nbformat_minor": 5
}
